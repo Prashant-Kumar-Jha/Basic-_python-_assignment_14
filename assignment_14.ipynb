{
 "cells": [
  {
   "cell_type": "code",
   "execution_count": null,
   "metadata": {},
   "outputs": [],
   "source": [
    "Q1 - What does RGBA stand for?\n",
    "\n",
    "ans - Red-Green-Blue-Alpha"
   ]
  },
  {
   "cell_type": "code",
   "execution_count": null,
   "metadata": {},
   "outputs": [],
   "source": [
    "Q2 - From the Pillow module, how do you get the RGBA value of 'CornflowerBlue'?\n",
    "\n",
    "ans - A function call to ImageColor.getcolor('CornflowerBlue', 'RGBA') \n",
    "      will return (100, 149, 237, 255), the RGBA value for that color"
   ]
  },
  {
   "cell_type": "code",
   "execution_count": null,
   "metadata": {},
   "outputs": [],
   "source": [
    "Q3 - What is a box tuple, and how does it work?\n",
    "\n",
    "ans -  A box tuple is a tuple value of four integers: the left edge x-coordinate, the top edge y-coordinate, the width, \n",
    "       and the height, respectively."
   ]
  },
  {
   "cell_type": "code",
   "execution_count": null,
   "metadata": {},
   "outputs": [],
   "source": [
    "Q4 -For an image file called zophie.png, what feature returns an Image object?\n",
    "\n",
    "ans - Image.open('zophie.png')"
   ]
  },
  {
   "cell_type": "code",
   "execution_count": null,
   "metadata": {},
   "outputs": [],
   "source": [
    "Q5 -What is the way to determine the width and height of a Picture object's image?\n",
    "\n",
    "ans -  imageObj.size is a tuple of two integers, the width and the height."
   ]
  },
  {
   "cell_type": "code",
   "execution_count": null,
   "metadata": {},
   "outputs": [],
   "source": [
    "Q6 -  How can you get an Image object for a 100x100 image that is missing the lower-left quarter?\n",
    "\n",
    "ans - imageObj.crop((0, 50, 50, 50)). Notice that you are passing a box tuple to crop(),\n",
    "      not four separate integer arguments."
   ]
  },
  {
   "cell_type": "code",
   "execution_count": null,
   "metadata": {},
   "outputs": [],
   "source": [
    "Q7 -How can you save an Image object as an image file after making adjustments to it?\n",
    "\n",
    "ans -  Call the imageObj.save('new_filename.png') method of the Image object."
   ]
  },
  {
   "cell_type": "code",
   "execution_count": null,
   "metadata": {},
   "outputs": [],
   "source": [
    "Q8 - . In which module does Pillow's shape-drawing code reside?\n",
    "\n",
    "ans -  The ImageDraw module contains code to draw on images."
   ]
  },
  {
   "cell_type": "code",
   "execution_count": null,
   "metadata": {},
   "outputs": [],
   "source": [
    "Q9 - Drawing methods are not available for image objects.\n",
    "     What kind of thing does that? What's the best way to get this kind of thing?\n",
    "\n",
    "ans - ImageDraw objects have shape-drawing methods such as point(), line(), or rectangle(). \n",
    "       They are returned by passing the Image object to the ImageDraw.Draw() function."
   ]
  }
 ],
 "metadata": {
  "kernelspec": {
   "display_name": "Python 3",
   "language": "python",
   "name": "python3"
  },
  "language_info": {
   "codemirror_mode": {
    "name": "ipython",
    "version": 3
   },
   "file_extension": ".py",
   "mimetype": "text/x-python",
   "name": "python",
   "nbconvert_exporter": "python",
   "pygments_lexer": "ipython3",
   "version": "3.8.5"
  }
 },
 "nbformat": 4,
 "nbformat_minor": 4
}
